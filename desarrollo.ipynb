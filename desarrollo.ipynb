{
 "cells": [
  {
   "cell_type": "markdown",
   "metadata": {},
   "source": [
    "# LIMPIEZA ARCHIVO Y ORDEN"
   ]
  },
  {
   "cell_type": "code",
   "execution_count": 20,
   "metadata": {},
   "outputs": [],
   "source": [
    "file = open('tablas/data.csv', 'r').readlines()\n",
    "\n"
   ]
  },
  {
   "cell_type": "code",
   "execution_count": 21,
   "metadata": {},
   "outputs": [
    {
     "name": "stdout",
     "output_type": "stream",
     "text": [
      "['E\\t1\\t1999-02-28\\tb,g,f\\tjjj:3,bbb:0,ddd:9,ggg:8,hhh:2\\n', 'A\\t2\\t1999-10-28\\ta,f,c\\tccc:2,ddd:0,aaa:3,hhh:9\\n', 'B\\t5\\t1998-05-02\\tf,e,a,c\\tddd:2,ggg:5,ccc:6,jjj:1\\n', 'A\\t3\\t1999-08-28\\ta,b\\thhh:9,iii:5,eee:7,bbb:1\\n', 'C\\t6\\t1999-12-01\\tf,g,d,a\\tiii:6,ddd:5,eee:4,jjj:3\\n', 'A\\t7\\t1998-07-28\\tc,d\\tbbb:2,hhh:0,ccc:4,fff:1,aaa:7\\n', 'A\\t9\\t1997-02-28\\tg,d,a\\taaa:5,fff:8,ddd:2,iii:0,jjj:7,ccc:1\\n', 'B\\t1\\t1999-05-10\\tb,a\\tfff:3,hhh:1,ddd:2\\n', 'E\\t2\\t1997-04-12\\td,e,a,f\\teee:4,ccc:5,iii:9,fff:7,ggg:6,bbb:0\\n', 'B\\t3\\t1999-11-23\\td,b,g,f\\tbbb:7,jjj:9,fff:5,iii:4,ggg:2,eee:3\\n', 'C\\t7\\t1998-01-17\\td,c,f,b\\thhh:6,eee:4,iii:0,fff:2,jjj:1\\n', 'C\\t5\\t1998-12-28\\td,e,a,c\\tbbb:7,iii:6,ggg:9\\n', 'D\\t3\\t1999-10-15\\tg,e,f,b\\tbbb:9,aaa:3,ccc:6,fff:4,eee:2\\n', 'E\\t8\\t1998-11-01\\tc,f\\taaa:8,ddd:5,jjj:1\\n', 'B\\t9\\t1999-08-12\\td,b\\tccc:0,jjj:6,fff:7,ddd:3,aaa:2\\n', 'D\\t1\\t1997-12-01\\tf,e\\tccc:0,eee:6,bbb:9,ddd:3\\n', 'E\\t3\\t1997-07-28\\te,b,f\\tbbb:6,iii:3,hhh:5,fff:4,ggg:9,ddd:2\\n', 'D\\t5\\t1998-08-12\\tg,a\\thhh:4,jjj:5,ccc:9\\n', 'E\\t8\\t1999-08-24\\te,c,f,a\\tccc:1,iii:6,fff:9\\n', 'E\\t9\\t1998-01-23\\te,a\\tbbb:9,aaa:3,fff:1\\n', 'E\\t7\\t1999-06-22\\te,f\\tddd:9,iii:2,aaa:4\\n', 'E\\t3\\t1999-04-24\\tc,b,g\\tccc:5,fff:8,iii:7\\n', 'D\\t5\\t1999-06-25\\tc,f,a\\teee:3,jjj:2,ddd:7\\n', 'A\\t1\\t1999-08-25\\tf,a,d\\tjjj:1,ggg:0,ccc:7,ddd:9,bbb:3\\n', 'E\\t4\\t1997-07-26\\tc,d\\tjjj:6,ccc:0,aaa:1,hhh:9,iii:7,ggg:8\\n', 'E\\t6\\t1997-09-24\\te,d,c\\tfff:3,eee:6,iii:4,bbb:7,ddd:0,ccc:1\\n', 'A\\t8\\t1997-09-28\\ta,e,f\\tfff:0,ddd:5,ccc:4\\n', 'E\\t5\\t1999-06-22\\tc,a,g\\tggg:6,hhh:3,ddd:9,ccc:0,jjj:7\\n', 'A\\t6\\t1999-07-29\\tf,e\\thhh:6,jjj:0,eee:5,iii:7,ccc:3\\n', 'C\\t0\\t1999-08-22\\tf,c,a,g\\teee:1,fff:4,aaa:2,ccc:7,ggg:0,ddd:6\\n', 'A\\t1\\t1998-04-26\\tb,f\\tccc:6,aaa:9,eee:5,ddd:0,bbb:3\\n', 'D\\t2\\t1998-02-24\\tb,f\\tbbb:7,hhh:1,aaa:6,iii:4,fff:9,ddd:5\\n', 'E\\t5\\t1999-03-24\\ta,c\\tfff:3,ccc:1,ggg:2,eee:5\\n', 'B\\t4\\t1998-03-23\\tb,f,c\\tiii:7,ggg:3,ddd:0,jjj:8,hhh:5,ccc:1\\n', 'B\\t6\\t1999-04-21\\tf,a,e\\thhh:6,ccc:3,jjj:0,bbb:8,ddd:7\\n', 'D\\t7\\t1999-02-29\\ta,f\\taaa:0,fff:5,ddd:3\\n', 'B\\t8\\t1997-05-21\\tc,a\\tddd:5,jjj:2,iii:7,ccc:0,bbb:4\\n', 'C\\t9\\t1997-07-22\\tc,a,e,f\\teee:0,fff:2,hhh:6\\n', 'E\\t1\\t1999-09-28\\te,d\\tfff:9,iii:2,eee:0\\n', 'E\\t5\\t1998-01-26\\tf,a,d\\thhh:8,ggg:3,jjj:5\\n']\n"
     ]
    }
   ],
   "source": [
    "print (file)"
   ]
  },
  {
   "cell_type": "code",
   "execution_count": 7,
   "metadata": {},
   "outputs": [],
   "source": [
    "file = [row [0:-1] for row in file]"
   ]
  },
  {
   "cell_type": "code",
   "execution_count": 8,
   "metadata": {},
   "outputs": [
    {
     "name": "stdout",
     "output_type": "stream",
     "text": [
      "['E\\t1\\t1999-02-28\\tb,g,f\\tjjj:3,bbb:0,ddd:9,ggg:8,hhh:2', 'A\\t2\\t1999-10-28\\ta,f,c\\tccc:2,ddd:0,aaa:3,hhh:9', 'B\\t5\\t1998-05-02\\tf,e,a,c\\tddd:2,ggg:5,ccc:6,jjj:1', 'A\\t3\\t1999-08-28\\ta,b\\thhh:9,iii:5,eee:7,bbb:1', 'C\\t6\\t1999-12-01\\tf,g,d,a\\tiii:6,ddd:5,eee:4,jjj:3', 'A\\t7\\t1998-07-28\\tc,d\\tbbb:2,hhh:0,ccc:4,fff:1,aaa:7', 'A\\t9\\t1997-02-28\\tg,d,a\\taaa:5,fff:8,ddd:2,iii:0,jjj:7,ccc:1', 'B\\t1\\t1999-05-10\\tb,a\\tfff:3,hhh:1,ddd:2', 'E\\t2\\t1997-04-12\\td,e,a,f\\teee:4,ccc:5,iii:9,fff:7,ggg:6,bbb:0', 'B\\t3\\t1999-11-23\\td,b,g,f\\tbbb:7,jjj:9,fff:5,iii:4,ggg:2,eee:3', 'C\\t7\\t1998-01-17\\td,c,f,b\\thhh:6,eee:4,iii:0,fff:2,jjj:1', 'C\\t5\\t1998-12-28\\td,e,a,c\\tbbb:7,iii:6,ggg:9', 'D\\t3\\t1999-10-15\\tg,e,f,b\\tbbb:9,aaa:3,ccc:6,fff:4,eee:2', 'E\\t8\\t1998-11-01\\tc,f\\taaa:8,ddd:5,jjj:1', 'B\\t9\\t1999-08-12\\td,b\\tccc:0,jjj:6,fff:7,ddd:3,aaa:2', 'D\\t1\\t1997-12-01\\tf,e\\tccc:0,eee:6,bbb:9,ddd:3', 'E\\t3\\t1997-07-28\\te,b,f\\tbbb:6,iii:3,hhh:5,fff:4,ggg:9,ddd:2', 'D\\t5\\t1998-08-12\\tg,a\\thhh:4,jjj:5,ccc:9', 'E\\t8\\t1999-08-24\\te,c,f,a\\tccc:1,iii:6,fff:9', 'E\\t9\\t1998-01-23\\te,a\\tbbb:9,aaa:3,fff:1', 'E\\t7\\t1999-06-22\\te,f\\tddd:9,iii:2,aaa:4', 'E\\t3\\t1999-04-24\\tc,b,g\\tccc:5,fff:8,iii:7', 'D\\t5\\t1999-06-25\\tc,f,a\\teee:3,jjj:2,ddd:7', 'A\\t1\\t1999-08-25\\tf,a,d\\tjjj:1,ggg:0,ccc:7,ddd:9,bbb:3', 'E\\t4\\t1997-07-26\\tc,d\\tjjj:6,ccc:0,aaa:1,hhh:9,iii:7,ggg:8', 'E\\t6\\t1997-09-24\\te,d,c\\tfff:3,eee:6,iii:4,bbb:7,ddd:0,ccc:1', 'A\\t8\\t1997-09-28\\ta,e,f\\tfff:0,ddd:5,ccc:4', 'E\\t5\\t1999-06-22\\tc,a,g\\tggg:6,hhh:3,ddd:9,ccc:0,jjj:7', 'A\\t6\\t1999-07-29\\tf,e\\thhh:6,jjj:0,eee:5,iii:7,ccc:3', 'C\\t0\\t1999-08-22\\tf,c,a,g\\teee:1,fff:4,aaa:2,ccc:7,ggg:0,ddd:6', 'A\\t1\\t1998-04-26\\tb,f\\tccc:6,aaa:9,eee:5,ddd:0,bbb:3', 'D\\t2\\t1998-02-24\\tb,f\\tbbb:7,hhh:1,aaa:6,iii:4,fff:9,ddd:5', 'E\\t5\\t1999-03-24\\ta,c\\tfff:3,ccc:1,ggg:2,eee:5', 'B\\t4\\t1998-03-23\\tb,f,c\\tiii:7,ggg:3,ddd:0,jjj:8,hhh:5,ccc:1', 'B\\t6\\t1999-04-21\\tf,a,e\\thhh:6,ccc:3,jjj:0,bbb:8,ddd:7', 'D\\t7\\t1999-02-29\\ta,f\\taaa:0,fff:5,ddd:3', 'B\\t8\\t1997-05-21\\tc,a\\tddd:5,jjj:2,iii:7,ccc:0,bbb:4', 'C\\t9\\t1997-07-22\\tc,a,e,f\\teee:0,fff:2,hhh:6', 'E\\t1\\t1999-09-28\\te,d\\tfff:9,iii:2,eee:0', 'E\\t5\\t1998-01-26\\tf,a,d\\thhh:8,ggg:3,jjj:5']\n"
     ]
    }
   ],
   "source": [
    "print (file)"
   ]
  },
  {
   "cell_type": "code",
   "execution_count": 26,
   "metadata": {},
   "outputs": [],
   "source": [
    "file = [row.split('\\t') for row in file]\n",
    "data = file\n"
   ]
  },
  {
   "cell_type": "code",
   "execution_count": 27,
   "metadata": {},
   "outputs": [
    {
     "name": "stdout",
     "output_type": "stream",
     "text": [
      "[['E', '1', '1999-02-28', 'b,g,f', 'jjj:3,bbb:0,ddd:9,ggg:8,hhh:2\\n'], ['A', '2', '1999-10-28', 'a,f,c', 'ccc:2,ddd:0,aaa:3,hhh:9\\n'], ['B', '5', '1998-05-02', 'f,e,a,c', 'ddd:2,ggg:5,ccc:6,jjj:1\\n'], ['A', '3', '1999-08-28', 'a,b', 'hhh:9,iii:5,eee:7,bbb:1\\n'], ['C', '6', '1999-12-01', 'f,g,d,a', 'iii:6,ddd:5,eee:4,jjj:3\\n'], ['A', '7', '1998-07-28', 'c,d', 'bbb:2,hhh:0,ccc:4,fff:1,aaa:7\\n'], ['A', '9', '1997-02-28', 'g,d,a', 'aaa:5,fff:8,ddd:2,iii:0,jjj:7,ccc:1\\n'], ['B', '1', '1999-05-10', 'b,a', 'fff:3,hhh:1,ddd:2\\n'], ['E', '2', '1997-04-12', 'd,e,a,f', 'eee:4,ccc:5,iii:9,fff:7,ggg:6,bbb:0\\n'], ['B', '3', '1999-11-23', 'd,b,g,f', 'bbb:7,jjj:9,fff:5,iii:4,ggg:2,eee:3\\n'], ['C', '7', '1998-01-17', 'd,c,f,b', 'hhh:6,eee:4,iii:0,fff:2,jjj:1\\n'], ['C', '5', '1998-12-28', 'd,e,a,c', 'bbb:7,iii:6,ggg:9\\n'], ['D', '3', '1999-10-15', 'g,e,f,b', 'bbb:9,aaa:3,ccc:6,fff:4,eee:2\\n'], ['E', '8', '1998-11-01', 'c,f', 'aaa:8,ddd:5,jjj:1\\n'], ['B', '9', '1999-08-12', 'd,b', 'ccc:0,jjj:6,fff:7,ddd:3,aaa:2\\n'], ['D', '1', '1997-12-01', 'f,e', 'ccc:0,eee:6,bbb:9,ddd:3\\n'], ['E', '3', '1997-07-28', 'e,b,f', 'bbb:6,iii:3,hhh:5,fff:4,ggg:9,ddd:2\\n'], ['D', '5', '1998-08-12', 'g,a', 'hhh:4,jjj:5,ccc:9\\n'], ['E', '8', '1999-08-24', 'e,c,f,a', 'ccc:1,iii:6,fff:9\\n'], ['E', '9', '1998-01-23', 'e,a', 'bbb:9,aaa:3,fff:1\\n'], ['E', '7', '1999-06-22', 'e,f', 'ddd:9,iii:2,aaa:4\\n'], ['E', '3', '1999-04-24', 'c,b,g', 'ccc:5,fff:8,iii:7\\n'], ['D', '5', '1999-06-25', 'c,f,a', 'eee:3,jjj:2,ddd:7\\n'], ['A', '1', '1999-08-25', 'f,a,d', 'jjj:1,ggg:0,ccc:7,ddd:9,bbb:3\\n'], ['E', '4', '1997-07-26', 'c,d', 'jjj:6,ccc:0,aaa:1,hhh:9,iii:7,ggg:8\\n'], ['E', '6', '1997-09-24', 'e,d,c', 'fff:3,eee:6,iii:4,bbb:7,ddd:0,ccc:1\\n'], ['A', '8', '1997-09-28', 'a,e,f', 'fff:0,ddd:5,ccc:4\\n'], ['E', '5', '1999-06-22', 'c,a,g', 'ggg:6,hhh:3,ddd:9,ccc:0,jjj:7\\n'], ['A', '6', '1999-07-29', 'f,e', 'hhh:6,jjj:0,eee:5,iii:7,ccc:3\\n'], ['C', '0', '1999-08-22', 'f,c,a,g', 'eee:1,fff:4,aaa:2,ccc:7,ggg:0,ddd:6\\n'], ['A', '1', '1998-04-26', 'b,f', 'ccc:6,aaa:9,eee:5,ddd:0,bbb:3\\n'], ['D', '2', '1998-02-24', 'b,f', 'bbb:7,hhh:1,aaa:6,iii:4,fff:9,ddd:5\\n'], ['E', '5', '1999-03-24', 'a,c', 'fff:3,ccc:1,ggg:2,eee:5\\n'], ['B', '4', '1998-03-23', 'b,f,c', 'iii:7,ggg:3,ddd:0,jjj:8,hhh:5,ccc:1\\n'], ['B', '6', '1999-04-21', 'f,a,e', 'hhh:6,ccc:3,jjj:0,bbb:8,ddd:7\\n'], ['D', '7', '1999-02-29', 'a,f', 'aaa:0,fff:5,ddd:3\\n'], ['B', '8', '1997-05-21', 'c,a', 'ddd:5,jjj:2,iii:7,ccc:0,bbb:4\\n'], ['C', '9', '1997-07-22', 'c,a,e,f', 'eee:0,fff:2,hhh:6\\n'], ['E', '1', '1999-09-28', 'e,d', 'fff:9,iii:2,eee:0\\n'], ['E', '5', '1998-01-26', 'f,a,d', 'hhh:8,ggg:3,jjj:5\\n']]\n"
     ]
    }
   ],
   "source": [
    "print (file)"
   ]
  },
  {
   "cell_type": "code",
   "execution_count": 28,
   "metadata": {},
   "outputs": [
    {
     "name": "stdout",
     "output_type": "stream",
     "text": [
      "[['E', '1', '1999-02-28', 'b,g,f', 'jjj:3,bbb:0,ddd:9,ggg:8,hhh:2\\n'], ['A', '2', '1999-10-28', 'a,f,c', 'ccc:2,ddd:0,aaa:3,hhh:9\\n'], ['B', '5', '1998-05-02', 'f,e,a,c', 'ddd:2,ggg:5,ccc:6,jjj:1\\n'], ['A', '3', '1999-08-28', 'a,b', 'hhh:9,iii:5,eee:7,bbb:1\\n'], ['C', '6', '1999-12-01', 'f,g,d,a', 'iii:6,ddd:5,eee:4,jjj:3\\n'], ['A', '7', '1998-07-28', 'c,d', 'bbb:2,hhh:0,ccc:4,fff:1,aaa:7\\n'], ['A', '9', '1997-02-28', 'g,d,a', 'aaa:5,fff:8,ddd:2,iii:0,jjj:7,ccc:1\\n'], ['B', '1', '1999-05-10', 'b,a', 'fff:3,hhh:1,ddd:2\\n'], ['E', '2', '1997-04-12', 'd,e,a,f', 'eee:4,ccc:5,iii:9,fff:7,ggg:6,bbb:0\\n'], ['B', '3', '1999-11-23', 'd,b,g,f', 'bbb:7,jjj:9,fff:5,iii:4,ggg:2,eee:3\\n'], ['C', '7', '1998-01-17', 'd,c,f,b', 'hhh:6,eee:4,iii:0,fff:2,jjj:1\\n'], ['C', '5', '1998-12-28', 'd,e,a,c', 'bbb:7,iii:6,ggg:9\\n'], ['D', '3', '1999-10-15', 'g,e,f,b', 'bbb:9,aaa:3,ccc:6,fff:4,eee:2\\n'], ['E', '8', '1998-11-01', 'c,f', 'aaa:8,ddd:5,jjj:1\\n'], ['B', '9', '1999-08-12', 'd,b', 'ccc:0,jjj:6,fff:7,ddd:3,aaa:2\\n'], ['D', '1', '1997-12-01', 'f,e', 'ccc:0,eee:6,bbb:9,ddd:3\\n'], ['E', '3', '1997-07-28', 'e,b,f', 'bbb:6,iii:3,hhh:5,fff:4,ggg:9,ddd:2\\n'], ['D', '5', '1998-08-12', 'g,a', 'hhh:4,jjj:5,ccc:9\\n'], ['E', '8', '1999-08-24', 'e,c,f,a', 'ccc:1,iii:6,fff:9\\n'], ['E', '9', '1998-01-23', 'e,a', 'bbb:9,aaa:3,fff:1\\n'], ['E', '7', '1999-06-22', 'e,f', 'ddd:9,iii:2,aaa:4\\n'], ['E', '3', '1999-04-24', 'c,b,g', 'ccc:5,fff:8,iii:7\\n'], ['D', '5', '1999-06-25', 'c,f,a', 'eee:3,jjj:2,ddd:7\\n'], ['A', '1', '1999-08-25', 'f,a,d', 'jjj:1,ggg:0,ccc:7,ddd:9,bbb:3\\n'], ['E', '4', '1997-07-26', 'c,d', 'jjj:6,ccc:0,aaa:1,hhh:9,iii:7,ggg:8\\n'], ['E', '6', '1997-09-24', 'e,d,c', 'fff:3,eee:6,iii:4,bbb:7,ddd:0,ccc:1\\n'], ['A', '8', '1997-09-28', 'a,e,f', 'fff:0,ddd:5,ccc:4\\n'], ['E', '5', '1999-06-22', 'c,a,g', 'ggg:6,hhh:3,ddd:9,ccc:0,jjj:7\\n'], ['A', '6', '1999-07-29', 'f,e', 'hhh:6,jjj:0,eee:5,iii:7,ccc:3\\n'], ['C', '0', '1999-08-22', 'f,c,a,g', 'eee:1,fff:4,aaa:2,ccc:7,ggg:0,ddd:6\\n'], ['A', '1', '1998-04-26', 'b,f', 'ccc:6,aaa:9,eee:5,ddd:0,bbb:3\\n'], ['D', '2', '1998-02-24', 'b,f', 'bbb:7,hhh:1,aaa:6,iii:4,fff:9,ddd:5\\n'], ['E', '5', '1999-03-24', 'a,c', 'fff:3,ccc:1,ggg:2,eee:5\\n'], ['B', '4', '1998-03-23', 'b,f,c', 'iii:7,ggg:3,ddd:0,jjj:8,hhh:5,ccc:1\\n'], ['B', '6', '1999-04-21', 'f,a,e', 'hhh:6,ccc:3,jjj:0,bbb:8,ddd:7\\n'], ['D', '7', '1999-02-29', 'a,f', 'aaa:0,fff:5,ddd:3\\n'], ['B', '8', '1997-05-21', 'c,a', 'ddd:5,jjj:2,iii:7,ccc:0,bbb:4\\n'], ['C', '9', '1997-07-22', 'c,a,e,f', 'eee:0,fff:2,hhh:6\\n'], ['E', '1', '1999-09-28', 'e,d', 'fff:9,iii:2,eee:0\\n'], ['E', '5', '1998-01-26', 'f,a,d', 'hhh:8,ggg:3,jjj:5\\n']]\n"
     ]
    }
   ],
   "source": [
    "print (data)"
   ]
  },
  {
   "cell_type": "markdown",
   "metadata": {},
   "source": [
    " # SOLUCION Q01"
   ]
  },
  {
   "cell_type": "code",
   "execution_count": 99,
   "metadata": {},
   "outputs": [
    {
     "name": "stdout",
     "output_type": "stream",
     "text": [
      "['jjj:3', 'bbb:0', 'ddd:9', 'ggg:8', 'hhh:2']\n",
      "['ccc:2', 'ddd:0', 'aaa:3', 'hhh:9']\n",
      "['ddd:2', 'ggg:5', 'ccc:6', 'jjj:1']\n",
      "['hhh:9', 'iii:5', 'eee:7', 'bbb:1']\n",
      "['iii:6', 'ddd:5', 'eee:4', 'jjj:3']\n",
      "['bbb:2', 'hhh:0', 'ccc:4', 'fff:1', 'aaa:7']\n",
      "['aaa:5', 'fff:8', 'ddd:2', 'iii:0', 'jjj:7', 'ccc:1']\n",
      "['fff:3', 'hhh:1', 'ddd:2']\n",
      "['eee:4', 'ccc:5', 'iii:9', 'fff:7', 'ggg:6', 'bbb:0']\n",
      "['bbb:7', 'jjj:9', 'fff:5', 'iii:4', 'ggg:2', 'eee:3']\n",
      "['hhh:6', 'eee:4', 'iii:0', 'fff:2', 'jjj:1']\n",
      "['bbb:7', 'iii:6', 'ggg:9']\n",
      "['bbb:9', 'aaa:3', 'ccc:6', 'fff:4', 'eee:2']\n",
      "['aaa:8', 'ddd:5', 'jjj:1']\n",
      "['ccc:0', 'jjj:6', 'fff:7', 'ddd:3', 'aaa:2']\n",
      "['ccc:0', 'eee:6', 'bbb:9', 'ddd:3']\n",
      "['bbb:6', 'iii:3', 'hhh:5', 'fff:4', 'ggg:9', 'ddd:2']\n",
      "['hhh:4', 'jjj:5', 'ccc:9']\n",
      "['ccc:1', 'iii:6', 'fff:9']\n",
      "['bbb:9', 'aaa:3', 'fff:1']\n",
      "['ddd:9', 'iii:2', 'aaa:4']\n",
      "['ccc:5', 'fff:8', 'iii:7']\n",
      "['eee:3', 'jjj:2', 'ddd:7']\n",
      "['jjj:1', 'ggg:0', 'ccc:7', 'ddd:9', 'bbb:3']\n",
      "['jjj:6', 'ccc:0', 'aaa:1', 'hhh:9', 'iii:7', 'ggg:8']\n",
      "['fff:3', 'eee:6', 'iii:4', 'bbb:7', 'ddd:0', 'ccc:1']\n",
      "['fff:0', 'ddd:5', 'ccc:4']\n",
      "['ggg:6', 'hhh:3', 'ddd:9', 'ccc:0', 'jjj:7']\n",
      "['hhh:6', 'jjj:0', 'eee:5', 'iii:7', 'ccc:3']\n",
      "['eee:1', 'fff:4', 'aaa:2', 'ccc:7', 'ggg:0', 'ddd:6']\n",
      "['ccc:6', 'aaa:9', 'eee:5', 'ddd:0', 'bbb:3']\n",
      "['bbb:7', 'hhh:1', 'aaa:6', 'iii:4', 'fff:9', 'ddd:5']\n",
      "['fff:3', 'ccc:1', 'ggg:2', 'eee:5']\n",
      "['iii:7', 'ggg:3', 'ddd:0', 'jjj:8', 'hhh:5', 'ccc:1']\n",
      "['hhh:6', 'ccc:3', 'jjj:0', 'bbb:8', 'ddd:7']\n",
      "['aaa:0', 'fff:5', 'ddd:3']\n",
      "['ddd:5', 'jjj:2', 'iii:7', 'ccc:0', 'bbb:4']\n",
      "['eee:0', 'fff:2', 'hhh:6']\n",
      "['fff:9', 'iii:2', 'eee:0']\n",
      "['hhh:8', 'ggg:3', 'jjj:5']\n"
     ]
    }
   ],
   "source": [
    "for idx, arr in enumerate(data):\n",
    "    print (arr[4])"
   ]
  },
  {
   "cell_type": "code",
   "execution_count": 41,
   "metadata": {},
   "outputs": [],
   "source": [
    "data = []\n",
    "for idx, arr in enumerate(file):\n",
    "    data.append([])\n",
    "    for x in arr:\n",
    "        x = x.split(',')\n",
    "        data[idx] += x"
   ]
  },
  {
   "cell_type": "code",
   "execution_count": 43,
   "metadata": {},
   "outputs": [
    {
     "name": "stdout",
     "output_type": "stream",
     "text": [
      "['hhh:8', 'ggg:3', 'jjj:5\\n']\n"
     ]
    }
   ],
   "source": [
    "print (x)"
   ]
  },
  {
   "cell_type": "code",
   "execution_count": 44,
   "metadata": {},
   "outputs": [
    {
     "name": "stdout",
     "output_type": "stream",
     "text": [
      "['E', '5', '1998-01-26', 'f,a,d', 'hhh:8,ggg:3,jjj:5\\n']\n"
     ]
    }
   ],
   "source": [
    "print (arr)"
   ]
  },
  {
   "cell_type": "code",
   "execution_count": 45,
   "metadata": {},
   "outputs": [
    {
     "name": "stdout",
     "output_type": "stream",
     "text": [
      "190\n"
     ]
    }
   ],
   "source": [
    "suma_col = 0\n",
    "for e in data:\n",
    "    suma_col += int(e[1])\n",
    "print(suma_col)"
   ]
  },
  {
   "cell_type": "markdown",
   "metadata": {},
   "source": [
    "# SOLUCION Q02 "
   ]
  },
  {
   "cell_type": "code",
   "execution_count": 47,
   "metadata": {},
   "outputs": [],
   "source": [
    "file = open('tablas/data.csv', 'r').readlines()\n"
   ]
  },
  {
   "cell_type": "code",
   "execution_count": 49,
   "metadata": {},
   "outputs": [],
   "source": [
    "file = [row[0:-1] for row in file]"
   ]
  },
  {
   "cell_type": "code",
   "execution_count": 50,
   "metadata": {},
   "outputs": [],
   "source": [
    "result = {}"
   ]
  },
  {
   "cell_type": "code",
   "execution_count": 51,
   "metadata": {},
   "outputs": [
    {
     "name": "stdout",
     "output_type": "stream",
     "text": [
      "['E\\t1\\t1999-02-28\\tb,g,f\\tjjj:3,bbb:0,ddd:9,ggg:8,hhh:', 'A\\t2\\t1999-10-28\\ta,f,c\\tccc:2,ddd:0,aaa:3,hhh:', 'B\\t5\\t1998-05-02\\tf,e,a,c\\tddd:2,ggg:5,ccc:6,jjj:', 'A\\t3\\t1999-08-28\\ta,b\\thhh:9,iii:5,eee:7,bbb:', 'C\\t6\\t1999-12-01\\tf,g,d,a\\tiii:6,ddd:5,eee:4,jjj:', 'A\\t7\\t1998-07-28\\tc,d\\tbbb:2,hhh:0,ccc:4,fff:1,aaa:', 'A\\t9\\t1997-02-28\\tg,d,a\\taaa:5,fff:8,ddd:2,iii:0,jjj:7,ccc:', 'B\\t1\\t1999-05-10\\tb,a\\tfff:3,hhh:1,ddd:', 'E\\t2\\t1997-04-12\\td,e,a,f\\teee:4,ccc:5,iii:9,fff:7,ggg:6,bbb:', 'B\\t3\\t1999-11-23\\td,b,g,f\\tbbb:7,jjj:9,fff:5,iii:4,ggg:2,eee:', 'C\\t7\\t1998-01-17\\td,c,f,b\\thhh:6,eee:4,iii:0,fff:2,jjj:', 'C\\t5\\t1998-12-28\\td,e,a,c\\tbbb:7,iii:6,ggg:', 'D\\t3\\t1999-10-15\\tg,e,f,b\\tbbb:9,aaa:3,ccc:6,fff:4,eee:', 'E\\t8\\t1998-11-01\\tc,f\\taaa:8,ddd:5,jjj:', 'B\\t9\\t1999-08-12\\td,b\\tccc:0,jjj:6,fff:7,ddd:3,aaa:', 'D\\t1\\t1997-12-01\\tf,e\\tccc:0,eee:6,bbb:9,ddd:', 'E\\t3\\t1997-07-28\\te,b,f\\tbbb:6,iii:3,hhh:5,fff:4,ggg:9,ddd:', 'D\\t5\\t1998-08-12\\tg,a\\thhh:4,jjj:5,ccc:', 'E\\t8\\t1999-08-24\\te,c,f,a\\tccc:1,iii:6,fff:', 'E\\t9\\t1998-01-23\\te,a\\tbbb:9,aaa:3,fff:', 'E\\t7\\t1999-06-22\\te,f\\tddd:9,iii:2,aaa:', 'E\\t3\\t1999-04-24\\tc,b,g\\tccc:5,fff:8,iii:', 'D\\t5\\t1999-06-25\\tc,f,a\\teee:3,jjj:2,ddd:', 'A\\t1\\t1999-08-25\\tf,a,d\\tjjj:1,ggg:0,ccc:7,ddd:9,bbb:', 'E\\t4\\t1997-07-26\\tc,d\\tjjj:6,ccc:0,aaa:1,hhh:9,iii:7,ggg:', 'E\\t6\\t1997-09-24\\te,d,c\\tfff:3,eee:6,iii:4,bbb:7,ddd:0,ccc:', 'A\\t8\\t1997-09-28\\ta,e,f\\tfff:0,ddd:5,ccc:', 'E\\t5\\t1999-06-22\\tc,a,g\\tggg:6,hhh:3,ddd:9,ccc:0,jjj:', 'A\\t6\\t1999-07-29\\tf,e\\thhh:6,jjj:0,eee:5,iii:7,ccc:', 'C\\t0\\t1999-08-22\\tf,c,a,g\\teee:1,fff:4,aaa:2,ccc:7,ggg:0,ddd:', 'A\\t1\\t1998-04-26\\tb,f\\tccc:6,aaa:9,eee:5,ddd:0,bbb:', 'D\\t2\\t1998-02-24\\tb,f\\tbbb:7,hhh:1,aaa:6,iii:4,fff:9,ddd:', 'E\\t5\\t1999-03-24\\ta,c\\tfff:3,ccc:1,ggg:2,eee:', 'B\\t4\\t1998-03-23\\tb,f,c\\tiii:7,ggg:3,ddd:0,jjj:8,hhh:5,ccc:', 'B\\t6\\t1999-04-21\\tf,a,e\\thhh:6,ccc:3,jjj:0,bbb:8,ddd:', 'D\\t7\\t1999-02-29\\ta,f\\taaa:0,fff:5,ddd:', 'B\\t8\\t1997-05-21\\tc,a\\tddd:5,jjj:2,iii:7,ccc:0,bbb:', 'C\\t9\\t1997-07-22\\tc,a,e,f\\teee:0,fff:2,hhh:', 'E\\t1\\t1999-09-28\\te,d\\tfff:9,iii:2,eee:', 'E\\t5\\t1998-01-26\\tf,a,d\\thhh:8,ggg:3,jjj:']\n"
     ]
    }
   ],
   "source": [
    "print (file)"
   ]
  },
  {
   "cell_type": "code",
   "execution_count": 53,
   "metadata": {},
   "outputs": [
    {
     "name": "stdout",
     "output_type": "stream",
     "text": [
      "{}\n"
     ]
    }
   ],
   "source": [
    "print (result)"
   ]
  },
  {
   "cell_type": "code",
   "execution_count": 60,
   "metadata": {},
   "outputs": [
    {
     "name": "stdout",
     "output_type": "stream",
     "text": [
      "A,8\n",
      "B,7\n",
      "C,5\n",
      "D,6\n",
      "E,14\n"
     ]
    }
   ],
   "source": [
    "for x in data:\n",
    "    result[x[0]] = 0\n",
    "\n",
    "for x in data:\n",
    "    result[x[0]] = result[x[0]] + 1\n",
    "\n",
    "for key in sorted(result.keys()):  \n",
    "     print(key + ',' + str(result[key]))"
   ]
  },
  {
   "cell_type": "markdown",
   "metadata": {},
   "source": [
    "# Solucion q03"
   ]
  },
  {
   "cell_type": "code",
   "execution_count": 61,
   "metadata": {},
   "outputs": [],
   "source": [
    "file = open('tablas/data.csv', 'r').readlines()\n",
    "\n"
   ]
  },
  {
   "cell_type": "code",
   "execution_count": 62,
   "metadata": {},
   "outputs": [],
   "source": [
    "file = [row[0:-1] for row in file]\n",
    "\n"
   ]
  },
  {
   "cell_type": "code",
   "execution_count": 64,
   "metadata": {},
   "outputs": [
    {
     "name": "stdout",
     "output_type": "stream",
     "text": [
      "[['E', '1', '1999-02-28', 'b,g,f', 'jjj:3,bbb:0,ddd:9,ggg:8,hhh:2'], ['A', '2', '1999-10-28', 'a,f,c', 'ccc:2,ddd:0,aaa:3,hhh:9'], ['B', '5', '1998-05-02', 'f,e,a,c', 'ddd:2,ggg:5,ccc:6,jjj:1'], ['A', '3', '1999-08-28', 'a,b', 'hhh:9,iii:5,eee:7,bbb:1'], ['C', '6', '1999-12-01', 'f,g,d,a', 'iii:6,ddd:5,eee:4,jjj:3'], ['A', '7', '1998-07-28', 'c,d', 'bbb:2,hhh:0,ccc:4,fff:1,aaa:7'], ['A', '9', '1997-02-28', 'g,d,a', 'aaa:5,fff:8,ddd:2,iii:0,jjj:7,ccc:1'], ['B', '1', '1999-05-10', 'b,a', 'fff:3,hhh:1,ddd:2'], ['E', '2', '1997-04-12', 'd,e,a,f', 'eee:4,ccc:5,iii:9,fff:7,ggg:6,bbb:0'], ['B', '3', '1999-11-23', 'd,b,g,f', 'bbb:7,jjj:9,fff:5,iii:4,ggg:2,eee:3'], ['C', '7', '1998-01-17', 'd,c,f,b', 'hhh:6,eee:4,iii:0,fff:2,jjj:1'], ['C', '5', '1998-12-28', 'd,e,a,c', 'bbb:7,iii:6,ggg:9'], ['D', '3', '1999-10-15', 'g,e,f,b', 'bbb:9,aaa:3,ccc:6,fff:4,eee:2'], ['E', '8', '1998-11-01', 'c,f', 'aaa:8,ddd:5,jjj:1'], ['B', '9', '1999-08-12', 'd,b', 'ccc:0,jjj:6,fff:7,ddd:3,aaa:2'], ['D', '1', '1997-12-01', 'f,e', 'ccc:0,eee:6,bbb:9,ddd:3'], ['E', '3', '1997-07-28', 'e,b,f', 'bbb:6,iii:3,hhh:5,fff:4,ggg:9,ddd:2'], ['D', '5', '1998-08-12', 'g,a', 'hhh:4,jjj:5,ccc:9'], ['E', '8', '1999-08-24', 'e,c,f,a', 'ccc:1,iii:6,fff:9'], ['E', '9', '1998-01-23', 'e,a', 'bbb:9,aaa:3,fff:1'], ['E', '7', '1999-06-22', 'e,f', 'ddd:9,iii:2,aaa:4'], ['E', '3', '1999-04-24', 'c,b,g', 'ccc:5,fff:8,iii:7'], ['D', '5', '1999-06-25', 'c,f,a', 'eee:3,jjj:2,ddd:7'], ['A', '1', '1999-08-25', 'f,a,d', 'jjj:1,ggg:0,ccc:7,ddd:9,bbb:3'], ['E', '4', '1997-07-26', 'c,d', 'jjj:6,ccc:0,aaa:1,hhh:9,iii:7,ggg:8'], ['E', '6', '1997-09-24', 'e,d,c', 'fff:3,eee:6,iii:4,bbb:7,ddd:0,ccc:1'], ['A', '8', '1997-09-28', 'a,e,f', 'fff:0,ddd:5,ccc:4'], ['E', '5', '1999-06-22', 'c,a,g', 'ggg:6,hhh:3,ddd:9,ccc:0,jjj:7'], ['A', '6', '1999-07-29', 'f,e', 'hhh:6,jjj:0,eee:5,iii:7,ccc:3'], ['C', '0', '1999-08-22', 'f,c,a,g', 'eee:1,fff:4,aaa:2,ccc:7,ggg:0,ddd:6'], ['A', '1', '1998-04-26', 'b,f', 'ccc:6,aaa:9,eee:5,ddd:0,bbb:3'], ['D', '2', '1998-02-24', 'b,f', 'bbb:7,hhh:1,aaa:6,iii:4,fff:9,ddd:5'], ['E', '5', '1999-03-24', 'a,c', 'fff:3,ccc:1,ggg:2,eee:5'], ['B', '4', '1998-03-23', 'b,f,c', 'iii:7,ggg:3,ddd:0,jjj:8,hhh:5,ccc:1'], ['B', '6', '1999-04-21', 'f,a,e', 'hhh:6,ccc:3,jjj:0,bbb:8,ddd:7'], ['D', '7', '1999-02-29', 'a,f', 'aaa:0,fff:5,ddd:3'], ['B', '8', '1997-05-21', 'c,a', 'ddd:5,jjj:2,iii:7,ccc:0,bbb:4'], ['C', '9', '1997-07-22', 'c,a,e,f', 'eee:0,fff:2,hhh:6'], ['E', '1', '1999-09-28', 'e,d', 'fff:9,iii:2,eee:0'], ['E', '5', '1998-01-26', 'f,a,d', 'hhh:8,ggg:3,jjj:5']]\n"
     ]
    }
   ],
   "source": [
    "file = [row.split('\\t') for row in file]\n",
    "data = file\n",
    "\n",
    "print (data)\n",
    "\n"
   ]
  },
  {
   "cell_type": "code",
   "execution_count": 65,
   "metadata": {},
   "outputs": [
    {
     "name": "stdout",
     "output_type": "stream",
     "text": [
      "A,37\n",
      "B,36\n",
      "C,27\n",
      "D,23\n",
      "E,67\n"
     ]
    }
   ],
   "source": [
    "for x in data:\n",
    "    result[x[0]] = 0\n",
    "\n",
    "for x in data:\n",
    "    result[x[0]] = result[x[0]] + int(x[1])\n",
    "\n",
    "for key in sorted(result.keys()):  \n",
    "     print(key + ',' + str(result[key]))"
   ]
  },
  {
   "cell_type": "markdown",
   "metadata": {},
   "source": [
    "# Solucion q04"
   ]
  },
  {
   "cell_type": "code",
   "execution_count": 70,
   "metadata": {},
   "outputs": [],
   "source": [
    "file = open('tablas/data.csv', 'r').readlines()"
   ]
  },
  {
   "cell_type": "code",
   "execution_count": 71,
   "metadata": {},
   "outputs": [],
   "source": [
    "file = [row[0:-1] for row in file]"
   ]
  },
  {
   "cell_type": "code",
   "execution_count": 72,
   "metadata": {},
   "outputs": [],
   "source": [
    "file = [row.split('\\t') for row in file]\n",
    "data = file"
   ]
  },
  {
   "cell_type": "code",
   "execution_count": 73,
   "metadata": {},
   "outputs": [
    {
     "name": "stdout",
     "output_type": "stream",
     "text": [
      "01,3\n",
      "02,4\n",
      "03,2\n",
      "04,4\n",
      "05,3\n",
      "06,3\n",
      "07,5\n",
      "08,6\n",
      "09,3\n",
      "10,2\n",
      "11,2\n",
      "12,3\n"
     ]
    }
   ],
   "source": [
    "result = {}\n",
    "\n",
    "for x in data:\n",
    "    result[(x[2].split('-')[1])] = 0\n",
    "\n",
    "for x in data:\n",
    "    result[(x[2].split('-')[1])] = result[(x[2].split('-')[1])] + 1\n",
    "\n",
    "for key in sorted(result.keys()):  \n",
    "     print(key + ',' + str(result[key]))"
   ]
  },
  {
   "cell_type": "markdown",
   "metadata": {},
   "source": [
    "## Solucion q05"
   ]
  },
  {
   "cell_type": "code",
   "execution_count": 80,
   "metadata": {},
   "outputs": [],
   "source": [
    "file = open('tablas/data.csv', 'r').readlines()"
   ]
  },
  {
   "cell_type": "code",
   "execution_count": 81,
   "metadata": {},
   "outputs": [],
   "source": [
    "file = [row[0:-1] for row in file]"
   ]
  },
  {
   "cell_type": "code",
   "execution_count": 82,
   "metadata": {},
   "outputs": [],
   "source": [
    "file = [row.split('\\t') for row in file]\n",
    "data = file"
   ]
  },
  {
   "cell_type": "code",
   "execution_count": 83,
   "metadata": {},
   "outputs": [],
   "source": [
    "result = {}\n",
    "\n",
    "for x in data:\n",
    "    result[x[0]] = []\n",
    "\n",
    "for x in data:\n",
    "    result[x[0]].append(int(x[1]))"
   ]
  },
  {
   "cell_type": "code",
   "execution_count": 84,
   "metadata": {},
   "outputs": [
    {
     "name": "stdout",
     "output_type": "stream",
     "text": [
      "{'E': [1, 2, 8, 3, 8, 9, 7, 3, 4, 6, 5, 5, 1, 5], 'A': [2, 3, 7, 9, 1, 8, 6, 1], 'B': [5, 1, 3, 9, 4, 6, 8], 'C': [6, 7, 5, 0, 9], 'D': [3, 1, 5, 5, 2, 7]}\n"
     ]
    }
   ],
   "source": [
    "print (result)"
   ]
  },
  {
   "cell_type": "code",
   "execution_count": 85,
   "metadata": {},
   "outputs": [
    {
     "name": "stdout",
     "output_type": "stream",
     "text": [
      "A,9,1\n",
      "B,9,1\n",
      "C,9,0\n",
      "D,7,1\n",
      "E,9,1\n"
     ]
    }
   ],
   "source": [
    "for key in sorted(result.keys()):  \n",
    "     print(key + ',' + str(max(result[key])) + ',' + str(min(result[key])))"
   ]
  },
  {
   "cell_type": "markdown",
   "metadata": {},
   "source": [
    "# Solucion q06"
   ]
  },
  {
   "cell_type": "code",
   "execution_count": 88,
   "metadata": {},
   "outputs": [],
   "source": [
    "file = open('tablas/data.csv', 'r').readlines()"
   ]
  },
  {
   "cell_type": "code",
   "execution_count": 89,
   "metadata": {},
   "outputs": [],
   "source": [
    "file = [row[0:-1] for row in file]"
   ]
  },
  {
   "cell_type": "code",
   "execution_count": 90,
   "metadata": {},
   "outputs": [],
   "source": [
    "file = [row.split('\\t') for row in file]"
   ]
  },
  {
   "cell_type": "code",
   "execution_count": 91,
   "metadata": {},
   "outputs": [],
   "source": [
    "data = []\n",
    "i = 0\n",
    "for x in file:\n",
    "    data.append([])\n",
    "    for e in x:\n",
    "        a = e.split(',')\n",
    "        if(len(a) == 1):\n",
    "            data[i].append(a[0])\n",
    "        else:\n",
    "            data[i].append(a)\n",
    "    i += 1"
   ]
  },
  {
   "cell_type": "code",
   "execution_count": 96,
   "metadata": {},
   "outputs": [],
   "source": [
    "result = {}\n",
    "\n",
    "for x in data:\n",
    "    for f in x[4]:\n",
    "        aux = f.split(':')\n",
    "        result[aux[0]] = []\n",
    "\n",
    "for x in data:\n",
    "    for f in x[4]:\n",
    "        aux = f.split(':')\n",
    "        result[aux[0]].append(int(aux[1]))"
   ]
  },
  {
   "cell_type": "code",
   "execution_count": 97,
   "metadata": {},
   "outputs": [
    {
     "name": "stdout",
     "output_type": "stream",
     "text": [
      "{'jjj': [3, 1, 3, 7, 9, 1, 1, 6, 5, 2, 1, 6, 7, 0, 8, 0, 2, 5], 'bbb': [0, 1, 2, 0, 7, 7, 9, 9, 6, 9, 3, 7, 3, 7, 8, 4], 'ddd': [9, 0, 2, 5, 2, 2, 5, 3, 3, 2, 9, 7, 9, 0, 5, 9, 6, 0, 5, 0, 7, 3, 5], 'ggg': [8, 5, 6, 2, 9, 9, 0, 8, 6, 0, 2, 3, 3], 'hhh': [2, 9, 9, 0, 1, 6, 5, 4, 9, 3, 6, 1, 5, 6, 6, 8], 'ccc': [2, 6, 4, 1, 5, 6, 0, 0, 9, 1, 5, 7, 0, 1, 4, 0, 3, 7, 6, 1, 1, 3, 0], 'aaa': [3, 7, 5, 3, 8, 2, 3, 4, 1, 2, 9, 6, 0], 'iii': [5, 6, 0, 9, 4, 0, 6, 3, 6, 2, 7, 7, 4, 7, 4, 7, 7, 2], 'eee': [7, 4, 4, 3, 4, 2, 6, 3, 6, 5, 1, 5, 5, 0, 0], 'fff': [1, 8, 3, 7, 5, 2, 4, 7, 4, 9, 1, 8, 3, 0, 4, 9, 3, 5, 2, 9]}\n"
     ]
    }
   ],
   "source": [
    "print (result)"
   ]
  },
  {
   "cell_type": "code",
   "execution_count": 98,
   "metadata": {},
   "outputs": [
    {
     "name": "stdout",
     "output_type": "stream",
     "text": [
      "aaa,0,9\n",
      "bbb,0,9\n",
      "ccc,0,9\n",
      "ddd,0,9\n",
      "eee,0,7\n",
      "fff,0,9\n",
      "ggg,0,9\n",
      "hhh,0,9\n",
      "iii,0,9\n",
      "jjj,0,9\n"
     ]
    }
   ],
   "source": [
    "for key in sorted(result.keys()):  \n",
    "     print(key + ',' + str(min(result[key])) + ',' + str(max(result[key])))"
   ]
  },
  {
   "cell_type": "markdown",
   "metadata": {},
   "source": [
    "# Solucion q07"
   ]
  },
  {
   "cell_type": "code",
   "execution_count": 101,
   "metadata": {},
   "outputs": [],
   "source": [
    "file = open('tablas/data.csv', 'r').readlines()"
   ]
  },
  {
   "cell_type": "code",
   "execution_count": 102,
   "metadata": {},
   "outputs": [],
   "source": [
    "file = [row[0:-1] for row in file]"
   ]
  },
  {
   "cell_type": "code",
   "execution_count": 103,
   "metadata": {},
   "outputs": [],
   "source": [
    "file = [row.split('\\t') for row in file]\n",
    "data = file"
   ]
  },
  {
   "cell_type": "code",
   "execution_count": 105,
   "metadata": {},
   "outputs": [
    {
     "name": "stdout",
     "output_type": "stream",
     "text": [
      "('0', ['C'])\n",
      "('1', ['E', 'B', 'D', 'A', 'A', 'E'])\n",
      "('2', ['A', 'E', 'D'])\n",
      "('3', ['A', 'B', 'D', 'E', 'E'])\n",
      "('4', ['E', 'B'])\n",
      "('5', ['B', 'C', 'D', 'D', 'E', 'E', 'E'])\n",
      "('6', ['C', 'E', 'A', 'B'])\n",
      "('7', ['A', 'C', 'E', 'D'])\n",
      "('8', ['E', 'E', 'A', 'B'])\n",
      "('9', ['A', 'B', 'E', 'C'])\n"
     ]
    }
   ],
   "source": [
    "result = {}\n",
    "\n",
    "for x in data:\n",
    "    result[x[1]] = []\n",
    "\n",
    "for x in data:\n",
    "    result[x[1]].append(x[0])\n",
    "\n",
    "for i in sorted(result.items()):\n",
    "    print (i)"
   ]
  },
  {
   "cell_type": "markdown",
   "metadata": {},
   "source": [
    "# Solucion q08"
   ]
  },
  {
   "cell_type": "code",
   "execution_count": 106,
   "metadata": {},
   "outputs": [],
   "source": [
    "file = open('tablas/data.csv', 'r').readlines()"
   ]
  },
  {
   "cell_type": "code",
   "execution_count": 107,
   "metadata": {},
   "outputs": [],
   "source": [
    "file = [row[0:-1] for row in file]"
   ]
  },
  {
   "cell_type": "code",
   "execution_count": 108,
   "metadata": {},
   "outputs": [],
   "source": [
    "file = [row.split('\\t') for row in file]\n",
    "data = file"
   ]
  },
  {
   "cell_type": "code",
   "execution_count": 109,
   "metadata": {},
   "outputs": [],
   "source": [
    "result = {}\n",
    "\n",
    "for x in data:\n",
    "    result[x[1]] = []\n",
    "\n",
    "for x in data:\n",
    "    result[x[1]].append(x[0])\n",
    "\n"
   ]
  },
  {
   "cell_type": "code",
   "execution_count": 110,
   "metadata": {},
   "outputs": [
    {
     "name": "stdout",
     "output_type": "stream",
     "text": [
      "('0', ['C'])\n",
      "('1', ['A', 'A', 'B', 'D', 'E', 'E'])\n",
      "('2', ['A', 'D', 'E'])\n",
      "('3', ['A', 'B', 'D', 'E', 'E'])\n",
      "('4', ['B', 'E'])\n",
      "('5', ['B', 'C', 'D', 'D', 'E', 'E', 'E'])\n",
      "('6', ['A', 'B', 'C', 'E'])\n",
      "('7', ['A', 'C', 'D', 'E'])\n",
      "('8', ['A', 'B', 'E', 'E'])\n",
      "('9', ['A', 'B', 'C', 'E'])\n"
     ]
    }
   ],
   "source": [
    "result2 = {}\n",
    "\n",
    "for i in sorted(result.items()):\n",
    "    result2[i[0]] = sorted(i[1])\n",
    "\n",
    "for i in sorted(result2.items()):\n",
    "    print (i)"
   ]
  },
  {
   "cell_type": "markdown",
   "metadata": {},
   "source": [
    "# Solucion q09"
   ]
  },
  {
   "cell_type": "code",
   "execution_count": 115,
   "metadata": {},
   "outputs": [],
   "source": [
    "file = open('tablas/data.csv', 'r').readlines()"
   ]
  },
  {
   "cell_type": "code",
   "execution_count": 116,
   "metadata": {},
   "outputs": [],
   "source": [
    "file = [row[0:-1] for row in file]"
   ]
  },
  {
   "cell_type": "code",
   "execution_count": 117,
   "metadata": {},
   "outputs": [],
   "source": [
    "file = [row.split('\\t') for row in file]\n",
    "data = file"
   ]
  },
  {
   "cell_type": "code",
   "execution_count": 118,
   "metadata": {},
   "outputs": [
    {
     "name": "stdout",
     "output_type": "stream",
     "text": [
      "('0', ['C'])\n",
      "('1', ['A', 'B', 'D', 'E'])\n",
      "('2', ['A', 'D', 'E'])\n",
      "('3', ['A', 'B', 'D', 'E'])\n",
      "('4', ['B', 'E'])\n",
      "('5', ['B', 'C', 'D', 'E'])\n",
      "('6', ['A', 'B', 'C', 'E'])\n",
      "('7', ['A', 'C', 'D', 'E'])\n",
      "('8', ['A', 'B', 'E'])\n",
      "('9', ['A', 'B', 'C', 'E'])\n"
     ]
    }
   ],
   "source": [
    "result = {}\n",
    "\n",
    "for element in data:\n",
    "    result[element[1]] = []\n",
    "\n",
    "for element in data:\n",
    "    result[element[1]].append(element[0])\n",
    "\n",
    "result2 = {}\n",
    "\n",
    "for i in sorted(result.items()):\n",
    "    aux = set(i[1])\n",
    "    aux = list(aux)\n",
    "    result2[i[0]] = sorted(aux)\n",
    "\n",
    "for i in sorted(result2.items()):\n",
    "    print (i)"
   ]
  },
  {
   "cell_type": "markdown",
   "metadata": {},
   "source": [
    "# Solucion q10"
   ]
  },
  {
   "cell_type": "code",
   "execution_count": 123,
   "metadata": {},
   "outputs": [],
   "source": [
    "file = open('tablas/data.csv', 'r').readlines()"
   ]
  },
  {
   "cell_type": "code",
   "execution_count": 124,
   "metadata": {},
   "outputs": [],
   "source": [
    "file = [row[0:-1] for row in file]"
   ]
  },
  {
   "cell_type": "code",
   "execution_count": 125,
   "metadata": {},
   "outputs": [],
   "source": [
    "file = [row.split('\\t') for row in file]"
   ]
  },
  {
   "cell_type": "code",
   "execution_count": 126,
   "metadata": {},
   "outputs": [],
   "source": [
    "data = []\n",
    "i = 0\n",
    "for x in file:\n",
    "    data.append([])\n",
    "    for e in x:\n",
    "        a = e.split(',')\n",
    "        if(len(a) == 1):\n",
    "            data[i].append(a[0])\n",
    "        else:\n",
    "            data[i].append(a)\n",
    "    i += 1"
   ]
  },
  {
   "cell_type": "code",
   "execution_count": 128,
   "metadata": {},
   "outputs": [
    {
     "name": "stdout",
     "output_type": "stream",
     "text": [
      "aaa,13\n",
      "bbb,16\n",
      "ccc,23\n",
      "ddd,23\n",
      "eee,15\n",
      "fff,20\n",
      "ggg,13\n",
      "hhh,16\n",
      "iii,18\n",
      "jjj,18\n"
     ]
    }
   ],
   "source": [
    "result = {}\n",
    "\n",
    "for x in data:\n",
    "    for f in x[4]:\n",
    "        aux = f.split(':')\n",
    "        result[aux[0]] = 0\n",
    "\n",
    "for x in data:\n",
    "    for f in x[4]:\n",
    "        aux = f.split(':')\n",
    "        result[aux[0]] += 1\n",
    "\n",
    "for e in sorted(result):\n",
    "    print(e + ',' + str(result[e]))"
   ]
  },
  {
   "cell_type": "markdown",
   "metadata": {},
   "source": [
    "# Solucion q11"
   ]
  },
  {
   "cell_type": "code",
   "execution_count": 129,
   "metadata": {},
   "outputs": [],
   "source": [
    "file = open('tablas/data.csv', 'r').readlines()"
   ]
  },
  {
   "cell_type": "code",
   "execution_count": 130,
   "metadata": {},
   "outputs": [],
   "source": [
    "file = [row[0:-1] for row in file]"
   ]
  },
  {
   "cell_type": "code",
   "execution_count": 131,
   "metadata": {},
   "outputs": [],
   "source": [
    "file = [row.split('\\t') for row in file]"
   ]
  },
  {
   "cell_type": "code",
   "execution_count": 132,
   "metadata": {},
   "outputs": [
    {
     "name": "stdout",
     "output_type": "stream",
     "text": [
      "E,3,5\n",
      "A,3,4\n",
      "B,4,4\n",
      "A,2,4\n",
      "C,4,4\n",
      "A,2,5\n",
      "A,3,6\n",
      "B,2,3\n",
      "E,4,6\n",
      "B,4,6\n",
      "C,4,5\n",
      "C,4,3\n",
      "D,4,5\n",
      "E,2,3\n",
      "B,2,5\n",
      "D,2,4\n",
      "E,3,6\n",
      "D,2,3\n",
      "E,4,3\n",
      "E,2,3\n",
      "E,2,3\n",
      "E,3,3\n",
      "D,3,3\n",
      "A,3,5\n",
      "E,2,6\n",
      "E,3,6\n",
      "A,3,3\n",
      "E,3,5\n",
      "A,2,5\n",
      "C,4,6\n",
      "A,2,5\n",
      "D,2,6\n",
      "E,2,4\n",
      "B,3,6\n",
      "B,3,5\n",
      "D,2,3\n",
      "B,2,5\n",
      "C,4,3\n",
      "E,2,3\n",
      "E,3,3\n"
     ]
    }
   ],
   "source": [
    "data = []\n",
    "i = 0\n",
    "for x in file:\n",
    "    data.append([])\n",
    "    for e in x:\n",
    "        a = e.split(',')\n",
    "        if(len(a) == 1):\n",
    "            data[i].append(a[0])\n",
    "        else:\n",
    "            data[i].append(a)\n",
    "    i += 1\n",
    "\n",
    "for x in data:\n",
    "    print(x[0] + ',' + str(len(x[3])) + ',' + str(len(x[4])))"
   ]
  },
  {
   "cell_type": "markdown",
   "metadata": {},
   "source": [
    "# Solucion q12"
   ]
  },
  {
   "cell_type": "code",
   "execution_count": 133,
   "metadata": {},
   "outputs": [],
   "source": [
    "file = open('tablas/data.csv', 'r').readlines()"
   ]
  },
  {
   "cell_type": "code",
   "execution_count": 134,
   "metadata": {},
   "outputs": [],
   "source": [
    "file = [row[0:-1] for row in file]"
   ]
  },
  {
   "cell_type": "code",
   "execution_count": 135,
   "metadata": {},
   "outputs": [],
   "source": [
    "file = [row.split('\\t') for row in file]"
   ]
  },
  {
   "cell_type": "code",
   "execution_count": 136,
   "metadata": {},
   "outputs": [],
   "source": [
    "data = []\n",
    "i = 0\n",
    "for x in file:\n",
    "    data.append([])\n",
    "    for e in x:\n",
    "        a = e.split(',')\n",
    "        if(len(a) == 1):\n",
    "            data[i].append(a[0])\n",
    "        else:\n",
    "            data[i].append(a)\n",
    "    i += 1\n",
    "\n",
    "result = {}\n",
    "\n",
    "for x in data:\n",
    "    for key in x[3]:\n",
    "        if key in result:\n",
    "            result[key] += int(x[1])\n",
    "        else:\n",
    "            result[key] = int(x[1])"
   ]
  },
  {
   "cell_type": "code",
   "execution_count": 137,
   "metadata": {},
   "outputs": [
    {
     "name": "stdout",
     "output_type": "stream",
     "text": [
      "{'b': 40, 'g': 35, 'f': 110, 'a': 114, 'c': 91, 'e': 79, 'd': 65}\n"
     ]
    }
   ],
   "source": [
    "print (result)"
   ]
  },
  {
   "cell_type": "code",
   "execution_count": 138,
   "metadata": {},
   "outputs": [
    {
     "name": "stdout",
     "output_type": "stream",
     "text": [
      "a,114\n",
      "b,40\n",
      "c,91\n",
      "d,65\n",
      "e,79\n",
      "f,110\n",
      "g,35\n"
     ]
    }
   ],
   "source": [
    "for key in sorted(result.keys()):\n",
    "     print(key + ',' + str(result[key]))"
   ]
  },
  {
   "cell_type": "markdown",
   "metadata": {},
   "source": [
    "# Solucion q13"
   ]
  },
  {
   "cell_type": "code",
   "execution_count": 139,
   "metadata": {},
   "outputs": [],
   "source": [
    "file = open('tablas/data.csv', 'r').readlines()"
   ]
  },
  {
   "cell_type": "code",
   "execution_count": 140,
   "metadata": {},
   "outputs": [],
   "source": [
    "file = [row[0:-1] for row in file]"
   ]
  },
  {
   "cell_type": "code",
   "execution_count": 141,
   "metadata": {},
   "outputs": [],
   "source": [
    "file = [row.split('\\t') for row in file]"
   ]
  },
  {
   "cell_type": "code",
   "execution_count": 142,
   "metadata": {},
   "outputs": [
    {
     "name": "stdout",
     "output_type": "stream",
     "text": [
      "E,22\n",
      "A,14\n",
      "B,14\n",
      "A,22\n",
      "C,18\n",
      "A,14\n",
      "A,23\n",
      "B,6\n",
      "E,31\n",
      "B,30\n",
      "C,13\n",
      "C,22\n",
      "D,24\n",
      "E,14\n",
      "B,18\n",
      "D,18\n",
      "E,29\n",
      "D,18\n",
      "E,16\n",
      "E,13\n",
      "E,15\n",
      "E,20\n",
      "D,12\n",
      "A,20\n",
      "E,31\n",
      "E,21\n",
      "A,9\n",
      "E,25\n",
      "A,21\n",
      "C,20\n",
      "A,23\n",
      "D,32\n",
      "E,11\n",
      "B,24\n",
      "B,24\n",
      "D,8\n",
      "B,18\n",
      "C,8\n",
      "E,11\n",
      "E,16\n"
     ]
    }
   ],
   "source": [
    "data = []\n",
    "i = 0\n",
    "for x in file:\n",
    "    data.append([])\n",
    "    for e in x:\n",
    "        a = e.split(',')\n",
    "        if(len(a) == 1):\n",
    "            data[i].append(a[0])\n",
    "        else:\n",
    "            data[i].append(a)\n",
    "    i += 1\n",
    "\n",
    "for x in data:\n",
    "    aux = 0\n",
    "    for e in x[4]:\n",
    "        aux += int(e.split(':')[1])\n",
    "    print(x[0] + ',' + str(aux))"
   ]
  },
  {
   "cell_type": "code",
   "execution_count": null,
   "metadata": {},
   "outputs": [],
   "source": []
  }
 ],
 "metadata": {
  "kernelspec": {
   "display_name": "Python 3",
   "language": "python",
   "name": "python3"
  },
  "language_info": {
   "codemirror_mode": {
    "name": "ipython",
    "version": 3
   },
   "file_extension": ".py",
   "mimetype": "text/x-python",
   "name": "python",
   "nbconvert_exporter": "python",
   "pygments_lexer": "ipython3",
   "version": "3.6.7"
  }
 },
 "nbformat": 4,
 "nbformat_minor": 2
}
